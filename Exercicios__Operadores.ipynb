{
  "nbformat": 4,
  "nbformat_minor": 0,
  "metadata": {
    "colab": {
      "name": "Exercicios _Operadores.ipynb",
      "provenance": [],
      "authorship_tag": "ABX9TyPmMYTyCWk+3kQIk8mfXNpJ",
      "include_colab_link": true
    },
    "kernelspec": {
      "name": "python3",
      "display_name": "Python 3"
    },
    "language_info": {
      "name": "python"
    }
  },
  "cells": [
    {
      "cell_type": "markdown",
      "metadata": {
        "id": "view-in-github",
        "colab_type": "text"
      },
      "source": [
        "<a href=\"https://colab.research.google.com/github/ycarogb/Blue_EdTech/blob/main/Exercicios__Operadores.ipynb\" target=\"_parent\"><img src=\"https://colab.research.google.com/assets/colab-badge.svg\" alt=\"Open In Colab\"/></a>"
      ]
    },
    {
      "cell_type": "code",
      "metadata": {
        "id": "uxOtXDKXwZKn"
      },
      "source": [
        "#Exercicios estão no link: https://wiki.python.org.br/EstruturaSequencial%C2%A0"
      ],
      "execution_count": null,
      "outputs": []
    },
    {
      "cell_type": "code",
      "metadata": {
        "colab": {
          "base_uri": "https://localhost:8080/"
        },
        "id": "k6HVIArZeXNv",
        "outputId": "02eb04d3-bceb-4ef4-e7e7-079e4d2012b7"
      },
      "source": [
        "#1\n",
        "print(\"Alo mundo\")"
      ],
      "execution_count": null,
      "outputs": [
        {
          "output_type": "stream",
          "text": [
            "Alo mundo\n"
          ],
          "name": "stdout"
        }
      ]
    },
    {
      "cell_type": "code",
      "metadata": {
        "colab": {
          "base_uri": "https://localhost:8080/"
        },
        "id": "yzCNF4oBeb9L",
        "outputId": "f3426185-adf6-4998-804f-b694a66f1791"
      },
      "source": [
        "#2\n",
        "numero = float(input(\"Digite um número: \"))\n",
        "\n",
        "print(\"O número informado foi:\", numero)"
      ],
      "execution_count": null,
      "outputs": [
        {
          "output_type": "stream",
          "text": [
            "Digite um número: 24\n",
            "O número informado foi: 24.0\n"
          ],
          "name": "stdout"
        }
      ]
    },
    {
      "cell_type": "code",
      "metadata": {
        "colab": {
          "base_uri": "https://localhost:8080/"
        },
        "id": "lOZG8CAEeuMH",
        "outputId": "0e93333b-6bd0-488f-b2e2-e6fa87fe4503"
      },
      "source": [
        "#3\n",
        "print(\"CALCULADORA DO YCARO\")\n",
        "'''\n",
        "\n",
        "'''\n",
        "numero1 = float(input(\"Digite um número: \"))\n",
        "numero2 = float(input(\"Digite outro número: \"))\n",
        "soma = numero1 + numero2\n",
        "\n",
        "print(\"O resultado da soma é: \", soma)"
      ],
      "execution_count": null,
      "outputs": [
        {
          "output_type": "stream",
          "text": [
            "CALCULADORA DO YCARO\n",
            "Digite um número: 5\n",
            "Digite outro número: 5\n",
            "O resultado da soma é:  10.0\n"
          ],
          "name": "stdout"
        }
      ]
    },
    {
      "cell_type": "code",
      "metadata": {
        "colab": {
          "base_uri": "https://localhost:8080/"
        },
        "id": "NnT_4uJDfWGy",
        "outputId": "fced97f5-90e4-44aa-8a9e-283e2563343e"
      },
      "source": [
        "#4\n",
        "print(\"CALCULADORA DE MÉDIA DAS NOTAS\")\n",
        "\n",
        "nota1 = float(input(\"N1 = \"))\n",
        "nota2 = float(input(\"N2 = \"))\n",
        "nota3 = float(input(\"N3 = \"))\n",
        "nota4 = float(input(\"N4 = \"))\n",
        "\n",
        "media = (nota1 + nota2 + nota3 + nota4)/4\n",
        "\n",
        "print(\"A média do aluno é:\", media)"
      ],
      "execution_count": null,
      "outputs": [
        {
          "output_type": "stream",
          "text": [
            "CALCULADORA DE MÉDIA DAS NOTAS\n",
            "N1 = 9\n",
            "N2 = 8\n",
            "N3 = 9\n",
            "N4 = 8\n",
            "A média do aluno é: 8.5\n"
          ],
          "name": "stdout"
        }
      ]
    },
    {
      "cell_type": "code",
      "metadata": {
        "colab": {
          "base_uri": "https://localhost:8080/"
        },
        "id": "03zTzPDsgGMK",
        "outputId": "4a35c3c4-9dab-4197-dd0d-1f630fec03da"
      },
      "source": [
        "#5\n",
        "print(\"CONVERSOR DE MEDIDAS\")\n",
        "\n",
        "metro = float(input(\"Digite a medida em metros: \"))\n",
        "\n",
        "centimetro = 100*metro\n",
        "\n",
        "print(\"Essa medida é igual a\", centimetro, \"centímetros.\")"
      ],
      "execution_count": null,
      "outputs": [
        {
          "output_type": "stream",
          "text": [
            "CONVERSOR DE MEDIDAS\n",
            "Digite a medida em metros: 5\n",
            "Essa medida é igual a 500.0 centímetros.\n"
          ],
          "name": "stdout"
        }
      ]
    },
    {
      "cell_type": "code",
      "metadata": {
        "colab": {
          "base_uri": "https://localhost:8080/"
        },
        "id": "mSTMYzERg0zA",
        "outputId": "60fcdee1-a181-454e-b012-1a3cb18de925"
      },
      "source": [
        "#6\n",
        "print(\"CALCULADORA DE RAIOS DE CÍRCULOS\")\n",
        "\n",
        "raio = float(input(\"Digite a medida do raio em metros: \"))\n",
        "\n",
        "area = 3.141*(raio**2)\n",
        "\n",
        "print(\"A área do círculo é:\", area)"
      ],
      "execution_count": null,
      "outputs": [
        {
          "output_type": "stream",
          "text": [
            "CALCULADORA DE RAIOS DE CÍRCULOS\n",
            "Digite a medida do raio em metros: 100\n",
            "A área do círculo é: 31410.0\n"
          ],
          "name": "stdout"
        }
      ]
    },
    {
      "cell_type": "code",
      "metadata": {
        "colab": {
          "base_uri": "https://localhost:8080/"
        },
        "id": "4YxTMcFwiW9n",
        "outputId": "53a4c391-25d2-4a7d-f457-9b765b7517ba"
      },
      "source": [
        "#7\n",
        "print(\"CALCULADORA DE QUADRADOS\")\n",
        "\n",
        "lado = float(input(\"Digite a medida do lado em metros: \"))\n",
        "\n",
        "area = lado**2\n",
        "dobro_area = 2*area\n",
        "\n",
        "print(\"O valor da área é:\", area)\n",
        "\n",
        "print(\"O dobro da área é:\", dobro_area)"
      ],
      "execution_count": null,
      "outputs": [
        {
          "output_type": "stream",
          "text": [
            "CALCULADORA DE QUADRADOS\n",
            "Digite a medida do lado em metros: 2\n",
            "O valor da área é: 4.0\n",
            "O dobro da área é: 8.0\n"
          ],
          "name": "stdout"
        }
      ]
    },
    {
      "cell_type": "code",
      "metadata": {
        "colab": {
          "base_uri": "https://localhost:8080/"
        },
        "id": "V90PkuQmjHy2",
        "outputId": "53e544ad-1c38-49f5-db18-fd1cd2b0b47e"
      },
      "source": [
        "#8\n",
        "print(\"CALCULADORA DE SALÁRIOS\")\n",
        "\n",
        "salario_hora = float(input(\"Qual seu salário? \"))\n",
        "horas = float(input(\"Quantas horas você trabalha durante o mês? \"))\n",
        "\n",
        "salario = salario_hora*horas\n",
        "\n",
        "print(\"Você ganha um salário de\", salario, \"reais.\")"
      ],
      "execution_count": null,
      "outputs": [
        {
          "output_type": "stream",
          "text": [
            "CALCULADORA DE SALÁRIOS\n",
            "Qual seu salário? 20\n",
            "Quantas horas você trabalha durante o mês? 120\n",
            "Você ganha um salário de 2400.0 reais.\n"
          ],
          "name": "stdout"
        }
      ]
    },
    {
      "cell_type": "code",
      "metadata": {
        "colab": {
          "base_uri": "https://localhost:8080/"
        },
        "id": "PREzIToTj1-b",
        "outputId": "d54c526f-4067-4134-c7a1-6cced30e7ac8"
      },
      "source": [
        "#9\n",
        "print(\"CONVERSOR DE TEMPERATURA\")\n",
        "\n",
        "faren = float(input(\"Digite a temeperatura em Fahrenheit: \"))\n",
        "\n",
        "celsius = 5 * ((faren-32) / 9)\n",
        "\n",
        "print(\"Esta temperatura em Celsius é:\", celsius)"
      ],
      "execution_count": null,
      "outputs": [
        {
          "output_type": "stream",
          "text": [
            "CONVERSOR DE TEMPERATURA\n",
            "Digite a temeperatura em Fahrenheit: 68\n",
            "Esta temperatura em Celsius é: 20.0\n"
          ],
          "name": "stdout"
        }
      ]
    },
    {
      "cell_type": "code",
      "metadata": {
        "colab": {
          "base_uri": "https://localhost:8080/"
        },
        "id": "v1VacmAfljrV",
        "outputId": "f0b30043-f58b-444a-ca45-dd640ce401ae"
      },
      "source": [
        "#10\n",
        "print(\"CONVERSOR DE TEMPERATURA 2\")\n",
        "\n",
        "cel = float(input(\"Digite a temeperatura em Celsius: \"))\n",
        "\n",
        "fahren = cel * 1.8 + 32\n",
        "\n",
        "print(\"Esta temperatura em Fahrenheit é:\", fahren)"
      ],
      "execution_count": null,
      "outputs": [
        {
          "output_type": "stream",
          "text": [
            "CONVERSOR DE TEMPERATURA 2\n",
            "Digite a temeperatura em Celsius: 20\n",
            "Esta temperatura em Fahrenheit é: 68.0\n"
          ],
          "name": "stdout"
        }
      ]
    },
    {
      "cell_type": "code",
      "metadata": {
        "colab": {
          "base_uri": "https://localhost:8080/"
        },
        "id": "wCVBjRgBmRSC",
        "outputId": "1317dbfd-1196-4f8d-c761-2758e448e80f"
      },
      "source": [
        "#11\n",
        "print(\"CALCULADORA DO EXERCICIO\")\n",
        "\n",
        "n1 = int(input(\"Digite um numero inteiro: \"))\n",
        "n2 = int(input(\"Digite outro numero inteiro: \"))\n",
        "n3 = float(input(\"Digite um numero real: \"))\n",
        "\n",
        "a = (2*n1)*(n2/2)\n",
        "\n",
        "b = (3*n1)+ n3\n",
        "\n",
        "c = n3**3\n",
        "\n",
        "print(\"Resposta a)\", a)\n",
        "print(\"Resposta b)\", b)\n",
        "print(\"Resposta c)\", c)"
      ],
      "execution_count": null,
      "outputs": [
        {
          "output_type": "stream",
          "text": [
            "CALCULADORA DO EXERCICIO\n",
            "Digite um numero inteiro: 2\n",
            "Digite outro numero inteiro: 2\n",
            "Digite um numero real: 0.5\n",
            "Resposta a) 4.0\n",
            "Resposta b) 6.5\n",
            "Resposta c) 0.125\n"
          ],
          "name": "stdout"
        }
      ]
    },
    {
      "cell_type": "code",
      "metadata": {
        "colab": {
          "base_uri": "https://localhost:8080/"
        },
        "id": "ZsTmuz2Gnaj8",
        "outputId": "e6406776-9925-4ad4-bd59-2da893c78e52"
      },
      "source": [
        "#12\n",
        "print(\"CALCULADORA DE PESO\")\n",
        "\n",
        "altura = float(input(\"Digite sua altura: \"))\n",
        "\n",
        "peso_ideal = (72.7*altura) - 58 \n",
        "\n",
        "print(\"Seu peso ideal é:\", peso_ideal, \"kilos.\")"
      ],
      "execution_count": null,
      "outputs": [
        {
          "output_type": "stream",
          "text": [
            "CALCULADORA DE PESO\n",
            "Digite sua altura: 1.84\n",
            "Seu peso ideal é: 75.768 kilos.\n"
          ],
          "name": "stdout"
        }
      ]
    },
    {
      "cell_type": "code",
      "metadata": {
        "colab": {
          "base_uri": "https://localhost:8080/"
        },
        "id": "mblo-GIgoc6I",
        "outputId": "ab4dd3eb-1929-4dc2-e5fb-7e238f01592e"
      },
      "source": [
        "#13\n",
        "print(\"CALCULADORA DE PESO DIFERENCIADA\")\n",
        "\n",
        "alt = float(input(\"Digite sua altura: \"))\n",
        "\n",
        "peso_h = (72.7*alt) - 58 \n",
        "peso_m = (62.1*alt) - 44.7\n",
        "\n",
        "print(\"Se for homem, o peso ideal é:\", peso_h)\n",
        "print(\"Se for mulher, o peso ideal é:\", peso_m)\n"
      ],
      "execution_count": null,
      "outputs": [
        {
          "output_type": "stream",
          "text": [
            "CALCULADORA DE PESO DIFERENCIADA\n",
            "Digite sua altura: 1.84\n",
            "Se for homem, o peso ideal é: 75.768\n",
            "Se for mulher, o peso ideal é: 69.56400000000001\n"
          ],
          "name": "stdout"
        }
      ]
    },
    {
      "cell_type": "code",
      "metadata": {
        "colab": {
          "base_uri": "https://localhost:8080/"
        },
        "id": "MNULYUH-pLiJ",
        "outputId": "7367c7b3-03bd-4612-be0f-1e7813e6dee2"
      },
      "source": [
        "#14\n",
        "print(\"CALCULADORA DE MULTA\")\n",
        "\n",
        "peso_peixe = float(input(\"Peso dos peixes pescados: \"))\n",
        "\n",
        "excesso = peso_peixe - 50\n",
        "\n",
        "multa = excesso * 4\n",
        "\n",
        "print(\"O exesso de peixe foi de:\", excesso, \"kilos.\")\n",
        "print(\"O valor de multa a ser pago deve ser de\", multa, \"reais\")"
      ],
      "execution_count": null,
      "outputs": [
        {
          "output_type": "stream",
          "text": [
            "CALCULADORA DE MULTA\n",
            "Peso dos peixes pescados: 60\n",
            "O exesso de peixe foi de: 10.0 kilos.\n",
            "O valor de multa a ser pago deve ser de 40.0 reais\n"
          ],
          "name": "stdout"
        }
      ]
    },
    {
      "cell_type": "code",
      "metadata": {
        "colab": {
          "base_uri": "https://localhost:8080/"
        },
        "id": "abdSsbCBqjtF",
        "outputId": "7e530f1c-7589-474c-b80f-e19ffb933c63"
      },
      "source": [
        "#15\n",
        "print(\"CALCULADORA DE SALÁRIO DETALHADA\")\n",
        "\n",
        "sal_hora = float(input(\"Qual seu salário por hora? \"))\n",
        "hor = float(input(\"Quantas horas você trabalha durante o mês? \"))\n",
        "\n",
        "sal_bruto = sal_hora*hor\n",
        "\n",
        "ir = 0.11*sal_hora\n",
        "inss = 0.08*sal_hora\n",
        "sind = 0.05*sal_hora\n",
        "\n",
        "salar = sal_hora - ir - inss - sind\n",
        "\n",
        "\n",
        "\n",
        "\n",
        "print(f\"+ SALARIO BRUTO: {sal_bruto}R$\")\n",
        "print(f\"- IR (11%): {ir}R$\")\n",
        "print(f\"- INSS (8%): {inss}R$\")\n",
        "print(f\"- SINDICATO(5%): {sind}R$\")\n",
        "print(f\"= SALÁRIO LÍQUIDO: {salar}R$\")\n",
        "\n"
      ],
      "execution_count": null,
      "outputs": [
        {
          "output_type": "stream",
          "text": [
            "CALCULADORA DE SALÁRIO DETALHADA\n",
            "Qual seu salário por hora? 20\n",
            "Quantas horas você trabalha durante o mês? 120\n",
            "+ SALARIO BRUTO: 2400.0R$\n",
            "- IR (11%): 2.2R$\n",
            "- INSS (8%): 1.6R$\n",
            "- SINDICATO(5%): 1.0R$\n",
            "= SALÁRIO LÍQUIDO: 15.2R$\n"
          ],
          "name": "stdout"
        }
      ]
    },
    {
      "cell_type": "code",
      "metadata": {
        "id": "VOu6Wz-Ns78d"
      },
      "source": [
        ""
      ],
      "execution_count": null,
      "outputs": []
    }
  ]
}