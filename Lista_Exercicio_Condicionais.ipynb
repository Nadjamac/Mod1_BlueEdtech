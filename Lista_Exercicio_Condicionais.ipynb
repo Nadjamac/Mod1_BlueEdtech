{
  "nbformat": 4,
  "nbformat_minor": 0,
  "metadata": {
    "colab": {
      "name": "Lista Exercicio Condicionais.ipynb",
      "provenance": [],
      "authorship_tag": "ABX9TyONQlxqvtUkDeNjgmnaSC4D",
      "include_colab_link": true
    },
    "kernelspec": {
      "name": "python3",
      "display_name": "Python 3"
    },
    "language_info": {
      "name": "python"
    }
  },
  "cells": [
    {
      "cell_type": "markdown",
      "metadata": {
        "id": "view-in-github",
        "colab_type": "text"
      },
      "source": [
        "<a href=\"https://colab.research.google.com/github/ycarogb/Blue_EdTech/blob/main/Lista_Exercicio_Condicionais.ipynb\" target=\"_parent\"><img src=\"https://colab.research.google.com/assets/colab-badge.svg\" alt=\"Open In Colab\"/></a>"
      ]
    },
    {
      "cell_type": "markdown",
      "metadata": {
        "id": "Q5TqhTej2E9L"
      },
      "source": [
        "**Exercício 1**: \"Faça um Programa que leia três números inteiros, em seguida mostre o maior e o menor deles.\""
      ]
    },
    {
      "cell_type": "code",
      "metadata": {
        "colab": {
          "base_uri": "https://localhost:8080/"
        },
        "id": "8NqzEWLX2Bvo",
        "outputId": "edcf356f-0eb3-4301-d696-f8cb411e03d3"
      },
      "source": [
        "numero1 = int(input(\"Digite um numéro inteiro: \"))\n",
        "numero2 = int(input(\"Digite um numéro inteiro: \"))\n",
        "numero3 = int(input(\"Digite um numéro inteiro: \"))\n",
        "\n",
        "maior = numero1\n",
        "\n",
        "if numero2 > maior:\n",
        "  maior = numero2\n",
        "  if numero3 > maior:\n",
        "    maior = numero3\n",
        "\n",
        "print(\"O maior número é:\", maior)"
      ],
      "execution_count": 1,
      "outputs": [
        {
          "output_type": "stream",
          "text": [
            "Digite um numéro inteiro: 1\n",
            "Digite um numéro inteiro: 2\n",
            "Digite um numéro inteiro: 3\n",
            "O maior número é: 3\n"
          ],
          "name": "stdout"
        }
      ]
    },
    {
      "cell_type": "code",
      "metadata": {
        "colab": {
          "base_uri": "https://localhost:8080/"
        },
        "id": "0DHBYZhy4Du4",
        "outputId": "de785c0d-e881-4340-f0d5-f2cbfb14c0b3"
      },
      "source": [
        "numero1 = int(input(\"Digite um numéro inteiro: \"))\n",
        "numero2 = int(input(\"Digite um numéro inteiro: \"))\n",
        "numero3 = int(input(\"Digite um numéro inteiro: \"))\n",
        "\n",
        "menor = numero1\n",
        "\n",
        "if numero2 < menor:\n",
        "  menor = numero2\n",
        "  if numero3 < menor:\n",
        "    menor = numero3\n",
        "\n",
        "print(\"O menor número é:\", menor)"
      ],
      "execution_count": 19,
      "outputs": [
        {
          "output_type": "stream",
          "text": [
            "Digite um numéro inteiro: 1\n",
            "Digite um numéro inteiro: 2\n",
            "Digite um numéro inteiro: 3\n",
            "O menor número é: 1\n"
          ],
          "name": "stdout"
        }
      ]
    },
    {
      "cell_type": "markdown",
      "metadata": {
        "id": "oHpxHm7B4_aH"
      },
      "source": [
        "**Exercício 2** - Faça um programa que peça dois números e imprima o maior deles."
      ]
    },
    {
      "cell_type": "code",
      "metadata": {
        "colab": {
          "base_uri": "https://localhost:8080/"
        },
        "id": "tyeM1IJJ4wLi",
        "outputId": "5094f9b3-8f80-44bd-b5bc-acb066010109"
      },
      "source": [
        "numero1 = float(input(\"Digite um numéro inteiro: \"))\n",
        "numero2 = float(input(\"Digite um numéro inteiro: \"))\n",
        "\n",
        "maior = numero1\n",
        "\n",
        "if numero2 > numero1:\n",
        "  maior = numero2\n",
        "\n",
        "print(\"O maior número é:\", maior)"
      ],
      "execution_count": 5,
      "outputs": [
        {
          "output_type": "stream",
          "text": [
            "Digite um numéro inteiro: 1.5\n",
            "Digite um numéro inteiro: 0.8\n",
            "O maior número é: 1.5\n"
          ],
          "name": "stdout"
        }
      ]
    },
    {
      "cell_type": "markdown",
      "metadata": {
        "id": "qU2pf8T-5k1H"
      },
      "source": [
        "Exercício 3 - Faça um script que peça um valor e mostre na tela se o valor é positivo ou negativo."
      ]
    },
    {
      "cell_type": "code",
      "metadata": {
        "colab": {
          "base_uri": "https://localhost:8080/"
        },
        "id": "A-2HHRaj5fF4",
        "outputId": "c42ea068-4398-4a1d-971a-2d643b41f089"
      },
      "source": [
        "num = float(input(\"Digite um numéro: \"))\n",
        "\n",
        "if num > 0:\n",
        "  print(\"O valor é positivo!\")\n",
        "else:\n",
        "  print(\"O valor é negativo!\")"
      ],
      "execution_count": 9,
      "outputs": [
        {
          "output_type": "stream",
          "text": [
            "Digite um numéro: -2.5\n",
            "O valor é negativo!\n"
          ],
          "name": "stdout"
        }
      ]
    },
    {
      "cell_type": "markdown",
      "metadata": {
        "id": "PGSVFtj56Bj3"
      },
      "source": [
        "Exercício 4 - Crie um programa que verifique se uma letra digitada é \"F\" ou \"M\". Conforme a letra escrever: F - Feminino, M - Masculino, Sexo Inválido."
      ]
    },
    {
      "cell_type": "code",
      "metadata": {
        "colab": {
          "base_uri": "https://localhost:8080/"
        },
        "id": "4BZ3Fddf54Lk",
        "outputId": "f918e9ab-62cf-431f-a5ad-6faad4765e46"
      },
      "source": [
        "sex = input(\"Digite seu sexo (F- feminino/M- masculino): \")\n",
        "\n",
        "sexo = sex.upper()\n",
        "\n",
        "if sexo == \"F\":\n",
        "  print(\"Feminino\")\n",
        "elif sexo == \"M\":\n",
        "  print(\"Masculino\")\n",
        "else:\n",
        "  print(\"Sexo Inválido\")"
      ],
      "execution_count": 16,
      "outputs": [
        {
          "output_type": "stream",
          "text": [
            "Digite seu sexo (F- feminino/M- masculino): f\n",
            "Feminino\n"
          ],
          "name": "stdout"
        }
      ]
    },
    {
      "cell_type": "markdown",
      "metadata": {
        "id": "o4aMkS2A7O9o"
      },
      "source": [
        "Exercício 5 - Crie um programa em Python que peça a nota do aluno, que deve ser um float entre 0.00 e 10.0:\n",
        "\n",
        "Se a nota for menor que 6.0, deve exibir a nota F.\n",
        "\n",
        "Se a nota for de 6.0 até 7.0, deve exibir a nota D.\n",
        "\n",
        "Se a nota for entre 7.0 e 8.0, deve exibir a nota C.\n",
        "\n",
        "Se a nota for entre 8.0 e 9.0, deve exibir a nota B.\n",
        "\n",
        "Por fim, se for entre 9.0 e 10.0, deve exibir um belo de um A.\n"
      ]
    },
    {
      "cell_type": "code",
      "metadata": {
        "colab": {
          "base_uri": "https://localhost:8080/"
        },
        "id": "xmsdlLY86nq_",
        "outputId": "60dbeef6-ed03-4d79-de4d-9d46d6ea5d81"
      },
      "source": [
        "nota = float(input(\"Digite a nota:\"))\n",
        "\n",
        "if nota >= 9:\n",
        "  print(\"Nota A\")\n",
        "elif 8 <= nota < 9:\n",
        "  print(\"Nota B\") \n",
        "elif 7 <= nota < 8:\n",
        "  print(\"Nota C\") \n",
        "elif 6 <= nota < 7:\n",
        "  print(\"Nota D\")\n",
        "else:\n",
        "  print(\"Nota F\")\n",
        "\n"
      ],
      "execution_count": 24,
      "outputs": [
        {
          "output_type": "stream",
          "text": [
            "Digite a nota:3.85\n",
            "Nota F\n"
          ],
          "name": "stdout"
        }
      ]
    },
    {
      "cell_type": "markdown",
      "metadata": {
        "id": "BGE2rYJP9nJt"
      },
      "source": [
        "Exercício 6 - Faça um Programa que verifique se uma letra digitada é vogal ou consoante."
      ]
    },
    {
      "cell_type": "code",
      "metadata": {
        "colab": {
          "base_uri": "https://localhost:8080/"
        },
        "id": "F4tw1eoe9OOy",
        "outputId": "6cbd774c-e215-4e72-e108-b61bec909921"
      },
      "source": [
        "letr = input(\"Digite uma letra: \")\n",
        "\n",
        "letra = letr.upper()\n",
        "\n",
        "if letra == \"A\" or letra == \"E\" or letra == \"I\" or letra == \"O\" or letra == \"U\":\n",
        "  print(\"A letra é uma vogal\")\n",
        "else:\n",
        "  print(\"A letra é uma consoante\")"
      ],
      "execution_count": 28,
      "outputs": [
        {
          "output_type": "stream",
          "text": [
            "Digite uma letra: j\n",
            "A letra é uma consoante\n"
          ],
          "name": "stdout"
        }
      ]
    },
    {
      "cell_type": "markdown",
      "metadata": {
        "id": "5Od7kRZi_HNH"
      },
      "source": [
        "# *** PROJETO 1***\n",
        "\n",
        "Resultado da primeira/segunda aula em Python:\n",
        "\n",
        "Escreva um programa que receba uma string digitada pelo usuário;\n",
        "\n",
        "Caso a string seja \"medieval\", exiba no console \"espada\";\n",
        "\n",
        "Caso contrário, se a string for \"futurista\", exiba no console \"sabre de luz\";\n",
        "\n",
        "Caso contrário, exiba no console \"Tente novamente\"\n",
        "\n",
        "# *** Continuação do PROJETO 1***\n",
        "\n",
        "Escreva um programa que receba um ataque de espada ou sabre digitada pelo usuário;\n",
        "\n",
        "Caso o ataque seja \"espada\", exiba no console \"VOCÊ AINDA NÃO MATOU O CHEFÃO\";\n",
        "\n",
        "Caso contrário, se o ataque for \"sabre\", exiba no console \"VOCÊ DERROTOU O CHEFÃO COM O SABRE DE LUZ\";\n",
        "\n",
        "Caso contrário, exiba no console \"ATAQUE NOVAMENTE\"\n"
      ]
    },
    {
      "cell_type": "code",
      "metadata": {
        "colab": {
          "base_uri": "https://localhost:8080/"
        },
        "id": "Cre-bb6W-qK_",
        "outputId": "2ee01934-885d-4a93-dc60-3f5c4cad9410"
      },
      "source": [
        "arm = input(\"Digite seu estilo de arma (medieval ou futurista): \" )\n",
        "\n",
        "arma = arm.upper()\n",
        "\n",
        "if arma == \"MEDIEVAL\":\n",
        "  print(\"Espada\")\n",
        "elif arma == \"FUTURISTA\":\n",
        "  print(\"Sabre de luz\")\n",
        "else:\n",
        "  print(\"TENTE NOVAMENTE\")\n"
      ],
      "execution_count": 32,
      "outputs": [
        {
          "output_type": "stream",
          "text": [
            "Digite seu estilo de arma (medieval ou futurista): futurista\n",
            "Sabre de luz\n"
          ],
          "name": "stdout"
        }
      ]
    },
    {
      "cell_type": "code",
      "metadata": {
        "id": "qVuLJEZWALcq"
      },
      "source": [
        "#Continuação do Projeto 1"
      ],
      "execution_count": 39,
      "outputs": []
    },
    {
      "cell_type": "code",
      "metadata": {
        "colab": {
          "base_uri": "https://localhost:8080/"
        },
        "id": "NBreF9JqATyq",
        "outputId": "3fc7bc36-e0f0-4337-c6ec-c8ebcc9f8877"
      },
      "source": [
        "arm = input(\"Digite seu estilo de arma (medieval ou futurista): \" )\n",
        "\n",
        "arma = arm.upper()\n",
        "\n",
        "if arma == \"MEDIEVAL\":\n",
        "  print(\"Sua arma é uma espada!\") and print(\"VOCÊ AINDA NÃO MATOU O DRAGÃO!\")\n",
        "elif arma == \"FUTURISTA\":\n",
        "  print(\"Sua arma é um sabre de luz!\") and print(\"VOCÊ DERROTOU O CHEFÃO COM O SABRE DE LUZ!\")\n",
        "\n",
        "if arma == \"MEDIEVAL\":\n",
        "  print(\"VOCÊ AINDA NÃO MATOU O DRAGÃO!\")\n",
        "elif arma == \"FUTURISTA\":\n",
        "  print(\"VOCÊ DERROTOU O CHEFÃO COM O SABRE DE LUZ!\")\n",
        "else:\n",
        "  print(\"ATAQUE NOVAMENTE\")\n",
        "\n"
      ],
      "execution_count": 37,
      "outputs": [
        {
          "output_type": "stream",
          "text": [
            "Digite seu estilo de arma (medieval ou futurista): futurista\n",
            "Sua arma é um sabre de luz!\n",
            "VOCÊ DERROTOU O CHEFÃO COM O SABRE DE LUZ!\n"
          ],
          "name": "stdout"
        }
      ]
    },
    {
      "cell_type": "markdown",
      "metadata": {
        "id": "lRrhwjFOB4zF"
      },
      "source": [
        "DESAFIO - As empresas @.com resolveram dar um aumento de salário aos seus colaboradores e lhe contrataram para desenvolver o programa que calculará os reajustes.\n",
        "\n",
        "Faça um programa que recebe o salário de um colaborador e o reajuste segundo o seguinte critério, baseado no salário atual:\n",
        "\n",
        "salários até R$  280,00 (incluindo) : aumento de 20%\n",
        "\n",
        "salários entre R$ 280,00 e R$ 700,00 : aumento de 15%\n",
        "\n",
        "salários entre R$ 700,00 e R$ 1500,00 : aumento de 10%\n",
        "\n",
        "salários de R$ 1500,00 em diante : aumento de 5%\n",
        "\n",
        "Após o aumento ser realizado, informe na tela:\n",
        "\n",
        "o salário antes do reajuste;\n",
        "\n",
        "o percentual de aumento aplicado;\n",
        "\n",
        "o valor do aumento;\n",
        "\n",
        "o novo salário, após o aumento.\"\n",
        "\n"
      ]
    },
    {
      "cell_type": "code",
      "metadata": {
        "colab": {
          "base_uri": "https://localhost:8080/"
        },
        "id": "5TkmtLWWA6DM",
        "outputId": "3a86dda2-b508-4abd-bca3-2b8112deb911"
      },
      "source": [
        "salar = float(input(\"Salário do colaborador: \"))\n",
        "\n",
        "percentual = 0\n",
        "\n",
        "if salar >= 1500:\n",
        "  percentual = 5/100\n",
        "elif 1500 > salar >= 700:\n",
        "  percentual = 10/100\n",
        "elif 700 > salar >=280:\n",
        "  percentual = 15/100\n",
        "else:\n",
        "  percentual = 20/100\n",
        "\n",
        "aumento = salar * percentual\n",
        "\n",
        "novo_salario = salar + aumento\n",
        "\n",
        "print(f\"SALÁRIO ANTES DO REAJUSTE: {salar}R$\")\n",
        "print(f\"PERCENTUAL DE AUMENTO APLICADO: {percentual*100}%\")\n",
        "print(f\"VALOR DO AUMENTO: {aumento}R$\")\n",
        "print(f\"SALÁRIO REAJUSTADO: {novo_salario}R$\")\n",
        "\n",
        "\n",
        "\n",
        "\n"
      ],
      "execution_count": 51,
      "outputs": [
        {
          "output_type": "stream",
          "text": [
            "Salário do colaborador: 100\n",
            "SALÁRIO ANTES DO REAJUSTE: 100.0R$\n",
            "PERCENTUAL DE AUMENTO APLICADO: 20.0%\n",
            "VALOR DO AUMENTO: 20.0R$\n",
            "SALÁRIO REAJUSTADO: 120.0R$\n"
          ],
          "name": "stdout"
        }
      ]
    },
    {
      "cell_type": "markdown",
      "metadata": {
        "id": "4sSjOw3_Gi_4"
      },
      "source": [
        "**DESAFIO**\n",
        "\n",
        "Faça um Programa para um caixa eletrônico. O programa deverá perguntar ao usuário a valor do saque e depois informar quantas notas de cada valor serão fornecidas. \n",
        "\n",
        "As notas disponíveis serão as de 1, 5, 10, 50 e 100 reais. O valor mínimo é de 10 reais e o máximo de 600 reais. O programa não deve se preocupar com a quantidade de notas existentes na máquina.\n",
        "\n",
        "\n",
        "Exemplo 1: Para sacar a quantia de 256 reais, o programa fornece duas notas de 100, uma nota de 50, uma nota de 5 e uma nota de 1;\n",
        "\n",
        "Exemplo 2: Para sacar a quantia de 399 reais, o programa fornece três notas de 100, uma nota de 50, quatro notas de 10, uma nota de 5 e quatro notas de 1.\n"
      ]
    },
    {
      "cell_type": "code",
      "metadata": {
        "id": "iW1Gr7IRK89w"
      },
      "source": [
        ""
      ],
      "execution_count": null,
      "outputs": []
    }
  ]
}