{
  "nbformat": 4,
  "nbformat_minor": 0,
  "metadata": {
    "colab": {
      "name": "Aula04_CodeLAB.ipynb",
      "provenance": [],
      "collapsed_sections": [],
      "include_colab_link": true
    },
    "kernelspec": {
      "name": "python3",
      "display_name": "Python 3"
    },
    "language_info": {
      "name": "python"
    }
  },
  "cells": [
    {
      "cell_type": "markdown",
      "metadata": {
        "id": "view-in-github",
        "colab_type": "text"
      },
      "source": [
        "<a href=\"https://colab.research.google.com/github/ycarogb/Blue_EdTech/blob/main/Aula04_CodeLAB.ipynb\" target=\"_parent\"><img src=\"https://colab.research.google.com/assets/colab-badge.svg\" alt=\"Open In Colab\"/></a>"
      ]
    },
    {
      "cell_type": "markdown",
      "metadata": {
        "id": "DptQTkwqN7v9"
      },
      "source": [
        "# Exercícios de Aquecimento\n",
        "\n",
        "## Exercício 01\n",
        "Elabore um programa que imprima na tela a seguinte frase `Olá Mundo! Esse é o meu primeiro programa`"
      ]
    },
    {
      "cell_type": "code",
      "metadata": {
        "id": "fu-Hvxg7OT64",
        "colab": {
          "base_uri": "https://localhost:8080/"
        },
        "outputId": "1ec278cf-1dae-4ad2-ad7a-bf49fb3b4a4e"
      },
      "source": [
        "print(\"Olá Mundo! Esse é o meu primeiro programa\")"
      ],
      "execution_count": 2,
      "outputs": [
        {
          "output_type": "stream",
          "text": [
            "Olá Mundo! Esse é o meu primeiro programa\n"
          ],
          "name": "stdout"
        }
      ]
    },
    {
      "cell_type": "markdown",
      "metadata": {
        "id": "HYnPLbl2OfuE"
      },
      "source": [
        "## Exercício 02\n",
        "Elabore um programa que escreve seu nome completo na primeira linha, seu endereço na segunda e o CEP e telefone na terceira.  \n",
        "\n",
        "**Exemplo:**\n",
        "```\n",
        "Nome: Bruno Fabri\n",
        "Endereço: Rua ABC\n",
        "CEP: 002220-010\n",
        "```"
      ]
    },
    {
      "cell_type": "code",
      "metadata": {
        "id": "sUrmuOzbO5Cd",
        "colab": {
          "base_uri": "https://localhost:8080/"
        },
        "outputId": "ca44d778-dade-41ca-c6ba-1aee39cc07e7"
      },
      "source": [
        "#uma opção\n",
        "print(\"Nome: Ycaro Batalha\")\n",
        "print(\"Endereço: Santa Teresa\")\n",
        "print(\"CEP:20241263\")"
      ],
      "execution_count": 4,
      "outputs": [
        {
          "output_type": "stream",
          "text": [
            "Nome: Ycaro Batalha\n",
            "Endereço: Santa Teresa\n",
            "CEP:20241263\n"
          ],
          "name": "stdout"
        }
      ]
    },
    {
      "cell_type": "code",
      "metadata": {
        "colab": {
          "base_uri": "https://localhost:8080/"
        },
        "id": "G2UB3Zx42Fum",
        "outputId": "ea4b334e-7f75-4a13-9acd-04900e77dad5"
      },
      "source": [
        "#pode-se utilizar o print apenas uma vez\n",
        "print(\"Nome: Ycaro Batalha\\nEndereço: Santa Teresa\\nCEP:20241263\")"
      ],
      "execution_count": 5,
      "outputs": [
        {
          "output_type": "stream",
          "text": [
            "Nome: Ycaro Batalha\n",
            "Endereço: Santa Teresa\n",
            "CEP:20241263\n"
          ],
          "name": "stdout"
        }
      ]
    },
    {
      "cell_type": "markdown",
      "metadata": {
        "id": "5XVY0cvwP1WX"
      },
      "source": [
        "## Exercício 03\n",
        "Elabore um programa que recebe o nome de uma pessoa do terminal e mostra a seguinte mensagem: `Olá {nome}! Seja bem vindo ao fantástico mundo da programação`"
      ]
    },
    {
      "cell_type": "code",
      "metadata": {
        "id": "VDfwe6OSQM0M",
        "colab": {
          "base_uri": "https://localhost:8080/"
        },
        "outputId": "078257bd-ca12-49af-c5db-5f1ee0fabd0d"
      },
      "source": [
        "nome = input(\"Digite seu nome: \")\n",
        "\n",
        "print(\"Olá\", nome+\"! Seja bem vindo ao fantástico mundo da programaço\")"
      ],
      "execution_count": 6,
      "outputs": [
        {
          "output_type": "stream",
          "text": [
            "Digite seu nome: Ciclano\n",
            "Olá Ciclano! Seja bem vindo ao fantástico mundo da programaço\n"
          ],
          "name": "stdout"
        }
      ]
    },
    {
      "cell_type": "code",
      "metadata": {
        "colab": {
          "base_uri": "https://localhost:8080/"
        },
        "id": "R1HQkyUM-CVZ",
        "outputId": "91d7e737-0469-43d8-f059-4a4a131a140d"
      },
      "source": [
        "#utilizando o comando format\n",
        "nome = input(\"Qual seu nome?: \")\n",
        "\n",
        "print(\"Olá {}! Seja bem vindo ao fantástico mundo da programação\".format(nome))"
      ],
      "execution_count": 7,
      "outputs": [
        {
          "output_type": "stream",
          "text": [
            "Qual seu nome?: Deltrano\n",
            "Olá Deltrano! Seja bem vindo ao fantástico mundo da programação\n"
          ],
          "name": "stdout"
        }
      ]
    },
    {
      "cell_type": "code",
      "metadata": {
        "colab": {
          "base_uri": "https://localhost:8080/"
        },
        "id": "PIuQ7OPk-vlE",
        "outputId": "7e3c3283-ca34-427e-9f85-a40d8be40480"
      },
      "source": [
        "#utilizando o format com outra sintaxe\n",
        "nome = str(input('Digite seu nome: '))\n",
        "print(f'Olá {nome}! Seja bem vindo ao fantástico mundo da programação ')\n"
      ],
      "execution_count": 9,
      "outputs": [
        {
          "output_type": "stream",
          "text": [
            "Digite seu nome: Fulano\n",
            "Olá Fulano! Seja bem vindo ao fantástico mundo da programação \n"
          ],
          "name": "stdout"
        }
      ]
    },
    {
      "cell_type": "markdown",
      "metadata": {
        "id": "1Nb29agVQc3k"
      },
      "source": [
        "## Exercício 04\n",
        "Elabore um programa que recebe dois valores inteiros e mostra a soma desses valores\n",
        "\n",
        "**Exemplo:**\n",
        "\n",
        "```\n",
        "Primeiro Valor = 2\n",
        "Segundo Valor = 3\n",
        "Soma = 5\n",
        "```"
      ]
    },
    {
      "cell_type": "code",
      "metadata": {
        "id": "a6_BwVwRROmH",
        "colab": {
          "base_uri": "https://localhost:8080/"
        },
        "outputId": "cec52492-961a-4db4-f839-5ec36d9b7666"
      },
      "source": [
        "numero1 = int(input(\"Digite um número: \"))\n",
        "numero2 = int(input(\"Digite outro número: \"))\n",
        "\n",
        "print(\"O resultado da soma é:\", numero1 + numero2)"
      ],
      "execution_count": 11,
      "outputs": [
        {
          "output_type": "stream",
          "text": [
            "Digite um número: 2\n",
            "Digite outro número: 3\n",
            "O resultado da soma é: 5\n"
          ],
          "name": "stdout"
        }
      ]
    },
    {
      "cell_type": "markdown",
      "metadata": {
        "id": "4HQxR3FTTbSr"
      },
      "source": [
        "## Exercício 05\n",
        "Elabore um programa que recebe dois valores inteiros e mostra se o primeiro valor é maior ou igual ao segundo valor\n",
        "\n",
        "**Exemplo:**\n",
        "```\n",
        "Primeiro Valor = 3\n",
        "Segundo Valor = 2\n",
        "Resultado = True\n",
        "```"
      ]
    },
    {
      "cell_type": "code",
      "metadata": {
        "id": "OXISQASdTeSW",
        "colab": {
          "base_uri": "https://localhost:8080/"
        },
        "outputId": "857f0149-51f1-471f-de04-7019b9249a5c"
      },
      "source": [
        "numero3 = float(input(\"Digite um número: \"))\n",
        "numero4 = float(input(\"Digite outro número: \"))\n",
        "\n",
        "print(\"O primeiro valor é maior ou igual ao segundo valor?:\", numero3 >= numero4)\n"
      ],
      "execution_count": 16,
      "outputs": [
        {
          "output_type": "stream",
          "text": [
            "Digite um número: 20\n",
            "Digite outro número: 30\n",
            "O primeiro valor é maior ou igual ao segundo valor?: False\n"
          ],
          "name": "stdout"
        }
      ]
    },
    {
      "cell_type": "markdown",
      "metadata": {
        "id": "Gn8rHPn3UCnc"
      },
      "source": [
        "## Exercício 06\n",
        "Elabore um programa que recebe o seu nome, endereço e hobby e mostra cada uma das informações da seguinte forma:\n",
        "- Nome -> Letra maiúscula\n",
        "- Endereço -> Letra minúscula\n",
        "- Hobby -> Primeira letra maiúscula\n",
        "\n",
        "**Exemplo Entrada:**\n",
        "```\n",
        "Nome: bruno fabri\n",
        "Endereço: Rua ABC\n",
        "Hobby: jogar cs\n",
        "```\n",
        "\n",
        "**Exemplo Saída:**\n",
        "```\n",
        "Nome: BRUNO FABRI\n",
        "Endereço: rua abc\n",
        "Hobby: Jogar cs\n",
        "```"
      ]
    },
    {
      "cell_type": "code",
      "metadata": {
        "id": "ZIj-PGVZVVP6",
        "colab": {
          "base_uri": "https://localhost:8080/"
        },
        "outputId": "1efee6b1-b805-4643-89ec-bb49e1cba094"
      },
      "source": [
        "nome = input(\"Digite sue nome: \")\n",
        "endereco = input(\"Digite seu endereço: \")\n",
        "hobby = input(\"Digite seu hobby: \")\n",
        "\n",
        "print(nome.upper())\n",
        "print(endereco.lower())\n",
        "print(hobby.title())\n",
        "\n"
      ],
      "execution_count": 23,
      "outputs": [
        {
          "output_type": "stream",
          "text": [
            "Digite sue nome: Ycaro Batalha\n",
            "Digite seu endereço: Rua ABC\n",
            "Digite seu hobby: Jogos\n",
            "YCARO BATALHA\n",
            "rua abc\n",
            "Jogos\n"
          ],
          "name": "stdout"
        }
      ]
    },
    {
      "cell_type": "markdown",
      "metadata": {
        "id": "wlvmEAPQNrcL"
      },
      "source": [
        "# Mini Projetos"
      ]
    },
    {
      "cell_type": "markdown",
      "metadata": {
        "id": "W8zwueNBKh4B"
      },
      "source": [
        "## Mini Projeto 01 - Conversor de Moeda\n",
        "Vamos construir um programa que irá converter moedas do real para o dólar e do dólar para o real. Vamos considerar que `$ 1,00 = R$ 5,75`\n",
        "\n",
        "### Parte 1\n",
        "Faça o conversor de moeda receber o valor em real e mostrar o valor convertido para dólar no formato `$ XXXX.XX`\n",
        "\n",
        "**Exemplo:**\n",
        "\n",
        "```\n",
        "Valor em R$ = 1000\n",
        "Valor em $ = $ 173.91\n",
        "```\n",
        "\n",
        "### Parte 2\n",
        "Altere o conversor de moedas para receber o valor em dólar, converter para real e mostrar o resultado no formato `R$ XXXX.XX`\n",
        "\n",
        "**Exemplo:**\n",
        "```\n",
        "Valor em $ = 1000\n",
        "Valor em R$ = R$ 5750.00\n",
        "```"
      ]
    },
    {
      "cell_type": "code",
      "metadata": {
        "id": "mRQ9fpIgMp5Z",
        "colab": {
          "base_uri": "https://localhost:8080/"
        },
        "outputId": "805b566b-52f6-4b8a-b72a-2d90e3d02974"
      },
      "source": [
        "#Parte1\n",
        "\n",
        "dolar = 5.75\n",
        "\n",
        "valor = float(input(\"Digite um valor: \"))\n",
        "\n",
        "conversao = valor / dolar\n",
        "\n",
        "print(\"O valor convertido é: $\", conversao)"
      ],
      "execution_count": 27,
      "outputs": [
        {
          "output_type": "stream",
          "text": [
            "Digite um valor: 100\n",
            "O valor convertido é $ 17.391304347826086\n"
          ],
          "name": "stdout"
        }
      ]
    },
    {
      "cell_type": "code",
      "metadata": {
        "colab": {
          "base_uri": "https://localhost:8080/"
        },
        "id": "Ps7T2xKFR2PK",
        "outputId": "03dc3aa1-548d-457d-9d7f-a403e2eb43b5"
      },
      "source": [
        "#Parte2\n",
        "dolar = 5.75\n",
        "\n",
        "valor = float(input(\"Digite um valor: \"))\n",
        "\n",
        "conversao2 = valor * dolar\n",
        "\n",
        "print(\"O valor convertido é: R$\", conversao2)"
      ],
      "execution_count": 30,
      "outputs": [
        {
          "output_type": "stream",
          "text": [
            "Digite um valor: 1000\n",
            "O valor convertido é: R$ 5750.0\n"
          ],
          "name": "stdout"
        }
      ]
    },
    {
      "cell_type": "markdown",
      "metadata": {
        "id": "0NmAiF2DV_ju"
      },
      "source": [
        "## Mini Projeto 02 - Calculadora de aumento de aluguel\n",
        "Vamos construir um programa que irá calcular o aumento anual do seu aluguel em duas partes:\n",
        "\n",
        "### Parte 1\n",
        "A sua calculadora vai receber o `valor do aluguel` e calcular o aumento baseado no `IGPM de 31%`. A calculadora deve apresentar o aluguel reajustado no formato `R$ XXXX.XX`\n",
        "\n",
        "**Exemplo:**\n",
        "```\n",
        "Valor do aluguel = 1000\n",
        "Valor do aluguel reajustado = R$ 1310,00\n",
        "```\n",
        "\n",
        "### Parte 2\n",
        "Agora, altere sua calculadora para receber além do `valor do aluguel`, o percentual do reajuste no formato `XX%`.  \n",
        "\n",
        "**Dica:** Descubra uma forma de transformar o percentual recebido em um número para efetuar o cálculo.\n",
        "\n",
        "**Exemplo:**\n",
        "```\n",
        "Valor do aluguel = 1000\n",
        "Percentual do reajuste = 31%\n",
        "Valor do aluguel reajustado = R% 1310,00\n",
        "```"
      ]
    },
    {
      "cell_type": "code",
      "metadata": {
        "id": "0eHzSCyaGkYJ",
        "colab": {
          "base_uri": "https://localhost:8080/"
        },
        "outputId": "27802bcc-619b-454c-eb0b-02bba007863f"
      },
      "source": [
        "#Parte1\n",
        "valor_do_aluguel = float(input(\"Digite o valor do seu aluguel: \"))\n",
        "\n",
        "valor_aluguel_reajustado = valor_do_aluguel + 0.31*valor_do_aluguel\n",
        "\n",
        "print(\"O valor do aluguel reajustado é:\", valor_aluguel_reajustado)"
      ],
      "execution_count": 34,
      "outputs": [
        {
          "output_type": "stream",
          "text": [
            "Digite o valor do seu aluguel: 1000\n",
            "O valor do aluguel reajustado é: 1310.0\n"
          ],
          "name": "stdout"
        }
      ]
    },
    {
      "cell_type": "code",
      "metadata": {
        "colab": {
          "base_uri": "https://localhost:8080/"
        },
        "id": "SVc_9PeNTsdC",
        "outputId": "f716666c-374b-4687-a0cc-7559117f0295"
      },
      "source": [
        "#Parte2\n",
        "valor_aluguel = float(input(\"Digite o valor do seu aluguel: \"))\n",
        "\n",
        "reajuste = 0.01*float(input(\"Digite do reajuste: \"))\n",
        "\n",
        "valor_aluguel_reaj = valor_aluguel + reajuste*valor_aluguel\n",
        "\n",
        "print(\"O valor do aluguel reajustado é:\", valor_aluguel_reaj)"
      ],
      "execution_count": 38,
      "outputs": [
        {
          "output_type": "stream",
          "text": [
            "Digite o valor do seu aluguel: 1000\n",
            "Digite do reajuste: 50\n",
            "O valor do aluguel reajustado é: 1500.0\n"
          ],
          "name": "stdout"
        }
      ]
    },
    {
      "cell_type": "markdown",
      "metadata": {
        "id": "xN88sUuMOG46"
      },
      "source": [
        "## Mini Projeto 03 - Calculadora de dano\n",
        "Vamos implementar a calculadora de dano de RPG!!\n",
        "\n",
        "### Parte 1\n",
        "O programa vai receber a `vida e um monstro (entre 10 e 50)` e o `valor do ataque do jogador por turno (entre 5 e 10)`\n",
        "\n",
        "Baseado nos valores, exiba a quantidade de turnos que o jogador irá demorar para conseguir derrotar o monstro.\n",
        "\n",
        "**Exemplo:**\n",
        "```\n",
        "Vida de um monstro (entre 10 e 50): 26\n",
        "Valor do ataque do jogador por turno (entre 5 e 10): 5\n",
        "Resultado: O jogador irá precisar de 6 turnos para derrotar o monstro.\n",
        "```\n",
        "\n",
        "### Parte 2\n",
        "Altere o programa para ao invés de receber a vida do monstro, gerar aleatoriamente um valor entre 10 e 50."
      ]
    },
    {
      "cell_type": "code",
      "metadata": {
        "id": "Mrpz9UomQH2P",
        "colab": {
          "base_uri": "https://localhost:8080/"
        },
        "outputId": "0df88c98-286b-4a89-b0a3-dd775953721b"
      },
      "source": [
        "#Parte1\n",
        "\n",
        "vida = float(input(\"Nível de vida do monstro (entre 10 e 50): \"))\n",
        "\n",
        "ataque = float(input(\"Nivel de ataque do oponente (entre 5 e 10): \"))\n",
        "\n",
        "#A função \"round\" arredonda um numero ou uma operação como neste exemplo\n",
        "\n",
        "\n",
        "turnos = round(vida / ataque + 0.5)\n",
        "\n",
        "print(\"Você vai precisar de\", turnos, \"turnos para derrotar o monstro!!\" )"
      ],
      "execution_count": 51,
      "outputs": [
        {
          "output_type": "stream",
          "text": [
            "Nível de vida do monstro (entre 10 e 50): 26\n",
            "Nivel de ataque do oponente (entre 5 e 10): 5\n",
            "Você vai precisar de 6 turnos para derrotar o monstro!!\n"
          ],
          "name": "stdout"
        }
      ]
    },
    {
      "cell_type": "code",
      "metadata": {
        "colab": {
          "base_uri": "https://localhost:8080/"
        },
        "id": "aqncoIkCV4Wf",
        "outputId": "36dd66d5-fae4-445f-87d9-a0a19f843cdc"
      },
      "source": [
        "#Parte2\n",
        "from random import randint\n",
        "\n",
        "vida =randint(10,50) \n",
        "ataque = float(input(\"Nivel de ataque do oponente (entre 5 e 10): \"))\n",
        "\n",
        "#A função \"round\" arredonda um numero ou uma operação como neste exemplo\n",
        "\n",
        "\n",
        "turnos = round(vida / ataque + 0.5)\n",
        "\n",
        "print(\"O nível de vida do monstro é:\", vida)\n",
        "\n",
        "print(\"Você vai precisar de\", turnos, \"turnos para derrotar o monstro!!\" )"
      ],
      "execution_count": 54,
      "outputs": [
        {
          "output_type": "stream",
          "text": [
            "Nivel de ataque do oponente (entre 5 e 10): 8\n",
            "O nível de vida do monstro é: 25\n",
            "Você vai precisar de 4 turnos para derrotar o monstro!!\n"
          ],
          "name": "stdout"
        }
      ]
    },
    {
      "cell_type": "code",
      "metadata": {
        "id": "o7W9swonasmb"
      },
      "source": [
        ""
      ],
      "execution_count": null,
      "outputs": []
    }
  ]
}